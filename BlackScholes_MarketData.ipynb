{
 "cells": [
  {
   "cell_type": "code",
   "execution_count": 1,
   "id": "6f6d0c8a-2465-4c35-bce9-2484cd31d874",
   "metadata": {
    "tags": []
   },
   "outputs": [
    {
     "name": "stdout",
     "output_type": "stream",
     "text": [
      "Call Option Price: 10.450583572185565\n"
     ]
    }
   ],
   "source": [
    "import numpy as np\n",
    "import scipy.stats as si\n",
    "\n",
    "def black_scholes(S, K, T, r, sigma, option_type=\"call\"):\n",
    "    \"\"\"\n",
    "    S: Stock price\n",
    "    K: Strike price\n",
    "    T: Time to maturity (in years)\n",
    "    r: Risk-free rate\n",
    "    sigma: Volatility\n",
    "    option_type: \"call\" or \"put\"\n",
    "    \"\"\"\n",
    "    d1 = (np.log(S / K) + (r + 0.5 * sigma**2) * T) / (sigma * np.sqrt(T))\n",
    "    d2 = d1 - sigma * np.sqrt(T)\n",
    "\n",
    "    if option_type == \"call\":\n",
    "        return S * si.norm.cdf(d1) - K * np.exp(-r * T) * si.norm.cdf(d2)\n",
    "    elif option_type == \"put\":\n",
    "        return K * np.exp(-r * T) * si.norm.cdf(-d2) - S * si.norm.cdf(-d1)\n",
    "\n",
    "# Example Usage:\n",
    "S, K, T, r, sigma = 100, 100, 1, 0.05, 0.2\n",
    "call_price = black_scholes(S, K, T, r, sigma, option_type=\"call\")\n",
    "print(\"Call Option Price:\", call_price)"
   ]
  },
  {
   "cell_type": "code",
   "execution_count": 2,
   "id": "7cb91e93-ef21-4e3c-a714-54ec4da63186",
   "metadata": {
    "tags": []
   },
   "outputs": [
    {
     "name": "stdout",
     "output_type": "stream",
     "text": [
      "Implied Volatility: 0.18797164945704056\n"
     ]
    }
   ],
   "source": [
    "from scipy.optimize import newton\n",
    "\n",
    "def implied_volatility(S, K, T, r, market_price, option_type=\"call\", tol=1e-6):\n",
    "    \"\"\"\n",
    "    Compute implied volatility using Newton-Raphson method.\n",
    "    \"\"\"\n",
    "    def bs_diff(sigma):\n",
    "        return black_scholes(S, K, T, r, sigma, option_type) - market_price\n",
    "\n",
    "    try:\n",
    "        return newton(bs_diff, x0=0.2, tol=tol, maxiter=100)\n",
    "    except RuntimeError:\n",
    "        return np.nan  # Return NaN if convergence fails\n",
    "\n",
    "# Example Usage:\n",
    "market_price = 10\n",
    "iv = implied_volatility(S, K, T, r, market_price, option_type=\"call\")\n",
    "print(\"Implied Volatility:\", iv)"
   ]
  },
  {
   "cell_type": "code",
   "execution_count": 3,
   "id": "60bffbe2-f909-4d5b-93f0-0bca80515ddc",
   "metadata": {
    "tags": []
   },
   "outputs": [
    {
     "name": "stdout",
     "output_type": "stream",
     "text": [
      "Columns in market_data: ['Expiration Date', 'Calls', 'Last Sale', 'Net', 'Bid', 'Ask', 'Volume', 'IV', 'Delta', 'Gamma', 'Open Interest', 'Strike', 'Puts', 'Last Sale.1', 'Net.1', 'Bid.1', 'Ask.1', 'Volume.1', 'IV.1', 'Delta.1', 'Gamma.1', 'Open Interest.1']\n",
      "First few rows:\n",
      "    Expiration Date                Calls  Last Sale    Net   Bid  Ask  Volume  \\\n",
      "0  Thu Apr 17 2025  SPXW250417C05275000       7.30 -24.85  7.30  8.8    7479   \n",
      "1  Thu Apr 17 2025   SPX250417C05280000      32.15   0.00  0.00  0.0       0   \n",
      "2  Thu Apr 17 2025  SPXW250417C05280000       2.30 -27.75  2.30  3.0   16210   \n",
      "3  Thu Apr 17 2025   SPX250417C05285000      29.04   0.00  0.00  0.0       0   \n",
      "4  Thu Apr 17 2025  SPXW250417C05285000       0.10 -27.85  0.05  0.2   17634   \n",
      "\n",
      "       IV   Delta   Gamma  ...                 Puts  Last Sale.1  Net.1  \\\n",
      "0  3.0581  0.9998  0.0004  ...  SPXW250417P05275000         0.03 -64.07   \n",
      "1  0.0000  0.0000  0.0000  ...   SPX250417P05280000        30.10   0.00   \n",
      "2  0.9531  0.9976  0.0079  ...  SPXW250417P05280000         0.05 -66.90   \n",
      "3  0.0000  0.0000  0.0000  ...   SPX250417P05285000        32.40   0.00   \n",
      "4  0.9423  0.0716  0.0867  ...  SPXW250417P05285000         3.00 -67.05   \n",
      "\n",
      "   Bid.1  Ask.1  Volume.1    IV.1  Delta.1  Gamma.1  Open Interest.1  \n",
      "0   0.00   0.05     44348  1.6417  -0.0002   0.0004             1505  \n",
      "1   0.00   0.00         0  0.0000   0.0000   0.0000              581  \n",
      "2   0.00   0.05     50748  0.6837  -0.0024   0.0079             1193  \n",
      "3   0.00   0.00         0  0.0000   0.0000   0.0000              490  \n",
      "4   1.75   3.20     31665  1.3465  -0.9994   0.0029              421  \n",
      "\n",
      "[5 rows x 22 columns]\n",
      "Filtered DataFrame shape: (48, 5)\n",
      "            S       K        T     r  market_price\n",
      "6   5282.7002  5270.0  0.00274  0.03         54.09\n",
      "7   5282.7002  5275.0  0.00274  0.03         48.90\n",
      "8   5282.7002  5280.0  0.00274  0.03         44.70\n",
      "9   5282.7002  5285.0  0.00274  0.03         40.95\n",
      "10  5282.7002  5290.0  0.00274  0.03         38.90\n"
     ]
    }
   ],
   "source": [
    "import pandas as pd\n",
    "from datetime import datetime\n",
    "\n",
    "# Load and clean market data (spx_quotedata.csv)\n",
    "market_data = pd.read_csv('spx_quotedata.csv', skiprows=3, encoding='utf-8')\n",
    "\n",
    "# Debug: Print column names and first few rows\n",
    "print(\"Columns in market_data:\", market_data.columns.tolist())\n",
    "print(\"First few rows:\\n\", market_data.head())\n",
    "\n",
    "# Extract stock price (S) from header (hard-coded for simplicity)\n",
    "S = 5282.7002  # From \"Last: 5282.7002\"\n",
    "\n",
    "# Reference date from market data\n",
    "reference_date = datetime(2025, 4, 20)\n",
    "\n",
    "# Function to calculate time to maturity (T) in years\n",
    "def calculate_T(exp_date):\n",
    "    try:\n",
    "        exp_date = datetime.strptime(exp_date, '%a %b %d %Y')\n",
    "        delta_days = (exp_date - reference_date).days\n",
    "        return delta_days / 365.0\n",
    "    except:\n",
    "        return None\n",
    "\n",
    "# Apply transformations\n",
    "market_data['S'] = S\n",
    "market_data['T'] = market_data['Expiration Date'].apply(calculate_T)\n",
    "market_data['r'] = 0.03  # Assume constant risk-free rate of 3%\n",
    "market_data['market_price'] = market_data['Last Sale']  # Use Calls' Last Sale\n",
    "market_data['K'] = market_data['Strike']\n",
    "\n",
    "# Filter invalid rows\n",
    "df = market_data[['S', 'K', 'T', 'r', 'market_price']]\n",
    "df = df[df['T'] >= 0]  # Remove expired options\n",
    "df = df[df['market_price'] > 0]  # Ensure valid option prices\n",
    "df = df.dropna()  # Drop any NaNs\n",
    "\n",
    "# Ensure correct data types\n",
    "df['S'] = df['S'].astype(float)\n",
    "df['K'] = df['K'].astype(float)\n",
    "df['T'] = df['T'].astype(float)\n",
    "df['r'] = df['r'].astype(float)\n",
    "df['market_price'] = df['market_price'].astype(float)\n",
    "\n",
    "# Debug: Print filtered DataFrame\n",
    "print(\"Filtered DataFrame shape:\", df.shape)\n",
    "print(df.head())"
   ]
  },
  {
   "cell_type": "code",
   "execution_count": 4,
   "id": "c6999cc1-04f4-43f6-9c1b-c686b4dc48b9",
   "metadata": {
    "tags": []
   },
   "outputs": [
    {
     "data": {
      "text/html": [
       "<div>\n",
       "<style scoped>\n",
       "    .dataframe tbody tr th:only-of-type {\n",
       "        vertical-align: middle;\n",
       "    }\n",
       "\n",
       "    .dataframe tbody tr th {\n",
       "        vertical-align: top;\n",
       "    }\n",
       "\n",
       "    .dataframe thead th {\n",
       "        text-align: right;\n",
       "    }\n",
       "</style>\n",
       "<table border=\"1\" class=\"dataframe\">\n",
       "  <thead>\n",
       "    <tr style=\"text-align: right;\">\n",
       "      <th></th>\n",
       "      <th>S</th>\n",
       "      <th>K</th>\n",
       "      <th>T</th>\n",
       "      <th>r</th>\n",
       "      <th>market_price</th>\n",
       "      <th>moneyness</th>\n",
       "      <th>log_moneyness</th>\n",
       "      <th>sqrt_ttm</th>\n",
       "      <th>risk_free_rate</th>\n",
       "      <th>implied_volatility</th>\n",
       "    </tr>\n",
       "  </thead>\n",
       "  <tbody>\n",
       "    <tr>\n",
       "      <th>6</th>\n",
       "      <td>5282.7002</td>\n",
       "      <td>5270.0</td>\n",
       "      <td>0.00274</td>\n",
       "      <td>0.03</td>\n",
       "      <td>54.09</td>\n",
       "      <td>1.002410</td>\n",
       "      <td>0.002407</td>\n",
       "      <td>0.052342</td>\n",
       "      <td>0.03</td>\n",
       "      <td>0.428722</td>\n",
       "    </tr>\n",
       "    <tr>\n",
       "      <th>7</th>\n",
       "      <td>5282.7002</td>\n",
       "      <td>5275.0</td>\n",
       "      <td>0.00274</td>\n",
       "      <td>0.03</td>\n",
       "      <td>48.90</td>\n",
       "      <td>1.001460</td>\n",
       "      <td>0.001459</td>\n",
       "      <td>0.052342</td>\n",
       "      <td>0.03</td>\n",
       "      <td>0.405677</td>\n",
       "    </tr>\n",
       "    <tr>\n",
       "      <th>8</th>\n",
       "      <td>5282.7002</td>\n",
       "      <td>5280.0</td>\n",
       "      <td>0.00274</td>\n",
       "      <td>0.03</td>\n",
       "      <td>44.70</td>\n",
       "      <td>1.000511</td>\n",
       "      <td>0.000511</td>\n",
       "      <td>0.052342</td>\n",
       "      <td>0.03</td>\n",
       "      <td>0.390970</td>\n",
       "    </tr>\n",
       "    <tr>\n",
       "      <th>9</th>\n",
       "      <td>5282.7002</td>\n",
       "      <td>5285.0</td>\n",
       "      <td>0.00274</td>\n",
       "      <td>0.03</td>\n",
       "      <td>40.95</td>\n",
       "      <td>0.999565</td>\n",
       "      <td>-0.000435</td>\n",
       "      <td>0.052342</td>\n",
       "      <td>0.03</td>\n",
       "      <td>0.379557</td>\n",
       "    </tr>\n",
       "    <tr>\n",
       "      <th>10</th>\n",
       "      <td>5282.7002</td>\n",
       "      <td>5290.0</td>\n",
       "      <td>0.00274</td>\n",
       "      <td>0.03</td>\n",
       "      <td>38.90</td>\n",
       "      <td>0.998620</td>\n",
       "      <td>-0.001381</td>\n",
       "      <td>0.052342</td>\n",
       "      <td>0.03</td>\n",
       "      <td>0.382709</td>\n",
       "    </tr>\n",
       "  </tbody>\n",
       "</table>\n",
       "</div>"
      ],
      "text/plain": [
       "            S       K        T     r  market_price  moneyness  log_moneyness  \\\n",
       "6   5282.7002  5270.0  0.00274  0.03         54.09   1.002410       0.002407   \n",
       "7   5282.7002  5275.0  0.00274  0.03         48.90   1.001460       0.001459   \n",
       "8   5282.7002  5280.0  0.00274  0.03         44.70   1.000511       0.000511   \n",
       "9   5282.7002  5285.0  0.00274  0.03         40.95   0.999565      -0.000435   \n",
       "10  5282.7002  5290.0  0.00274  0.03         38.90   0.998620      -0.001381   \n",
       "\n",
       "    sqrt_ttm  risk_free_rate  implied_volatility  \n",
       "6   0.052342            0.03            0.428722  \n",
       "7   0.052342            0.03            0.405677  \n",
       "8   0.052342            0.03            0.390970  \n",
       "9   0.052342            0.03            0.379557  \n",
       "10  0.052342            0.03            0.382709  "
      ]
     },
     "execution_count": 4,
     "metadata": {},
     "output_type": "execute_result"
    }
   ],
   "source": [
    "# Feature Engineering\n",
    "df[\"moneyness\"] = df[\"S\"] / df[\"K\"]  # Moneyness ratio\n",
    "df[\"log_moneyness\"] = np.log(df[\"moneyness\"])\n",
    "df[\"sqrt_ttm\"] = np.sqrt(df[\"T\"])  # Time to Maturity in sqrt form\n",
    "df[\"risk_free_rate\"] = df[\"r\"]\n",
    "df[\"implied_volatility\"] = df.apply(lambda row: implied_volatility(row[\"S\"], row[\"K\"], row[\"T\"], row[\"r\"], row[\"market_price\"]), axis=1)\n",
    "\n",
    "# Drop NaN values\n",
    "df = df.dropna()\n",
    "df.head()"
   ]
  },
  {
   "cell_type": "code",
   "execution_count": 5,
   "id": "8974e482-5223-4e43-a0b5-c895ba393599",
   "metadata": {
    "tags": []
   },
   "outputs": [
    {
     "name": "stdout",
     "output_type": "stream",
     "text": [
      "Epoch 1/50\n",
      "2/2 [==============================] - 0s 68ms/step - loss: 0.2092 - val_loss: 0.1464\n",
      "Epoch 2/50\n",
      "2/2 [==============================] - 0s 13ms/step - loss: 0.1389 - val_loss: 0.1131\n",
      "Epoch 3/50\n",
      "2/2 [==============================] - 0s 12ms/step - loss: 0.0909 - val_loss: 0.0902\n",
      "Epoch 4/50\n",
      "2/2 [==============================] - 0s 12ms/step - loss: 0.0586 - val_loss: 0.0737\n",
      "Epoch 5/50\n",
      "2/2 [==============================] - 0s 13ms/step - loss: 0.0392 - val_loss: 0.0623\n",
      "Epoch 6/50\n",
      "2/2 [==============================] - 0s 13ms/step - loss: 0.0282 - val_loss: 0.0538\n",
      "Epoch 7/50\n",
      "2/2 [==============================] - 0s 11ms/step - loss: 0.0228 - val_loss: 0.0474\n",
      "Epoch 8/50\n",
      "2/2 [==============================] - 0s 11ms/step - loss: 0.0195 - val_loss: 0.0431\n",
      "Epoch 9/50\n",
      "2/2 [==============================] - 0s 11ms/step - loss: 0.0180 - val_loss: 0.0401\n",
      "Epoch 10/50\n",
      "2/2 [==============================] - 0s 12ms/step - loss: 0.0167 - val_loss: 0.0382\n",
      "Epoch 11/50\n",
      "2/2 [==============================] - 0s 12ms/step - loss: 0.0154 - val_loss: 0.0368\n",
      "Epoch 12/50\n",
      "2/2 [==============================] - 0s 11ms/step - loss: 0.0144 - val_loss: 0.0357\n",
      "Epoch 13/50\n",
      "2/2 [==============================] - 0s 11ms/step - loss: 0.0138 - val_loss: 0.0346\n",
      "Epoch 14/50\n",
      "2/2 [==============================] - 0s 11ms/step - loss: 0.0133 - val_loss: 0.0336\n",
      "Epoch 15/50\n",
      "2/2 [==============================] - 0s 13ms/step - loss: 0.0125 - val_loss: 0.0329\n",
      "Epoch 16/50\n",
      "2/2 [==============================] - 0s 12ms/step - loss: 0.0117 - val_loss: 0.0322\n",
      "Epoch 17/50\n",
      "2/2 [==============================] - 0s 12ms/step - loss: 0.0108 - val_loss: 0.0316\n",
      "Epoch 18/50\n",
      "2/2 [==============================] - 0s 11ms/step - loss: 0.0099 - val_loss: 0.0313\n",
      "Epoch 19/50\n",
      "2/2 [==============================] - 0s 11ms/step - loss: 0.0091 - val_loss: 0.0313\n",
      "Epoch 20/50\n",
      "2/2 [==============================] - 0s 11ms/step - loss: 0.0084 - val_loss: 0.0313\n",
      "Epoch 21/50\n",
      "2/2 [==============================] - 0s 11ms/step - loss: 0.0079 - val_loss: 0.0313\n",
      "Epoch 22/50\n",
      "2/2 [==============================] - 0s 11ms/step - loss: 0.0073 - val_loss: 0.0310\n",
      "Epoch 23/50\n",
      "2/2 [==============================] - 0s 11ms/step - loss: 0.0069 - val_loss: 0.0306\n",
      "Epoch 24/50\n",
      "2/2 [==============================] - 0s 12ms/step - loss: 0.0066 - val_loss: 0.0305\n",
      "Epoch 25/50\n",
      "2/2 [==============================] - 0s 11ms/step - loss: 0.0063 - val_loss: 0.0306\n",
      "Epoch 26/50\n",
      "2/2 [==============================] - 0s 12ms/step - loss: 0.0062 - val_loss: 0.0309\n",
      "Epoch 27/50\n",
      "2/2 [==============================] - 0s 12ms/step - loss: 0.0059 - val_loss: 0.0312\n",
      "Epoch 28/50\n",
      "2/2 [==============================] - 0s 12ms/step - loss: 0.0057 - val_loss: 0.0316\n",
      "Epoch 29/50\n",
      "2/2 [==============================] - 0s 11ms/step - loss: 0.0055 - val_loss: 0.0320\n",
      "Epoch 30/50\n",
      "2/2 [==============================] - 0s 12ms/step - loss: 0.0053 - val_loss: 0.0326\n",
      "Epoch 31/50\n",
      "2/2 [==============================] - 0s 12ms/step - loss: 0.0050 - val_loss: 0.0330\n",
      "Epoch 32/50\n",
      "2/2 [==============================] - 0s 12ms/step - loss: 0.0048 - val_loss: 0.0332\n",
      "Epoch 33/50\n",
      "2/2 [==============================] - 0s 11ms/step - loss: 0.0047 - val_loss: 0.0333\n",
      "Epoch 34/50\n",
      "2/2 [==============================] - 0s 12ms/step - loss: 0.0045 - val_loss: 0.0335\n",
      "Epoch 35/50\n",
      "2/2 [==============================] - 0s 11ms/step - loss: 0.0044 - val_loss: 0.0336\n",
      "Epoch 36/50\n",
      "2/2 [==============================] - 0s 12ms/step - loss: 0.0043 - val_loss: 0.0336\n",
      "Epoch 37/50\n",
      "2/2 [==============================] - 0s 13ms/step - loss: 0.0042 - val_loss: 0.0335\n",
      "Epoch 38/50\n",
      "2/2 [==============================] - 0s 12ms/step - loss: 0.0040 - val_loss: 0.0331\n",
      "Epoch 39/50\n",
      "2/2 [==============================] - 0s 12ms/step - loss: 0.0039 - val_loss: 0.0326\n",
      "Epoch 40/50\n",
      "2/2 [==============================] - 0s 12ms/step - loss: 0.0038 - val_loss: 0.0320\n",
      "Epoch 41/50\n",
      "2/2 [==============================] - 0s 11ms/step - loss: 0.0037 - val_loss: 0.0314\n",
      "Epoch 42/50\n",
      "2/2 [==============================] - 0s 12ms/step - loss: 0.0036 - val_loss: 0.0307\n",
      "Epoch 43/50\n",
      "2/2 [==============================] - 0s 12ms/step - loss: 0.0035 - val_loss: 0.0300\n",
      "Epoch 44/50\n",
      "2/2 [==============================] - 0s 11ms/step - loss: 0.0034 - val_loss: 0.0298\n",
      "Epoch 45/50\n",
      "2/2 [==============================] - 0s 11ms/step - loss: 0.0033 - val_loss: 0.0298\n",
      "Epoch 46/50\n",
      "2/2 [==============================] - 0s 12ms/step - loss: 0.0032 - val_loss: 0.0298\n",
      "Epoch 47/50\n",
      "2/2 [==============================] - 0s 11ms/step - loss: 0.0031 - val_loss: 0.0300\n",
      "Epoch 48/50\n",
      "2/2 [==============================] - 0s 12ms/step - loss: 0.0030 - val_loss: 0.0301\n",
      "Epoch 49/50\n",
      "2/2 [==============================] - 0s 12ms/step - loss: 0.0029 - val_loss: 0.0300\n",
      "Epoch 50/50\n",
      "2/2 [==============================] - 0s 11ms/step - loss: 0.0029 - val_loss: 0.0299\n",
      "1/1 [==============================] - 0s 35ms/step\n",
      "NN MSE: 0.029905639063769602\n",
      "XGB MSE: 0.015804139526575577\n"
     ]
    }
   ],
   "source": [
    "from sklearn.model_selection import train_test_split\n",
    "from sklearn.preprocessing import StandardScaler\n",
    "import tensorflow as tf\n",
    "from tensorflow import keras\n",
    "from tensorflow.keras import layers\n",
    "import xgboost as xgb\n",
    "\n",
    "# Define Features & Target\n",
    "X = df[[\"S\", \"K\", \"T\", \"r\", \"moneyness\", \"log_moneyness\", \"sqrt_ttm\"]]\n",
    "y = df[\"implied_volatility\"]\n",
    "\n",
    "# Train-Test Split\n",
    "X_train, X_test, y_train, y_test = train_test_split(X, y, test_size=0.2, random_state=42)\n",
    "\n",
    "# Standardize Data\n",
    "scaler = StandardScaler()\n",
    "X_train = scaler.fit_transform(X_train)\n",
    "X_test = scaler.transform(X_test)\n",
    "\n",
    "# Neural Network Model\n",
    "def build_nn():\n",
    "    model = keras.Sequential([\n",
    "        layers.Dense(64, activation=\"relu\"),\n",
    "        layers.Dense(32, activation=\"relu\"),\n",
    "        layers.Dense(16, activation=\"relu\"),\n",
    "        layers.Dense(1)  # Output: Implied Volatility\n",
    "    ])\n",
    "    model.compile(optimizer=\"adam\", loss=\"mse\")\n",
    "    return model\n",
    "\n",
    "# Train Model\n",
    "nn_model = build_nn()\n",
    "nn_model.fit(X_train, y_train, epochs=50, batch_size=32, validation_data=(X_test, y_test))\n",
    "\n",
    "# Train XGBoost\n",
    "xgb_model = xgb.XGBRegressor(objective=\"reg:squarederror\", n_estimators=500, learning_rate=0.05)\n",
    "xgb_model.fit(X_train, y_train)\n",
    "\n",
    "# Compare Performance\n",
    "nn_preds = nn_model.predict(X_test).flatten()\n",
    "xgb_preds = xgb_model.predict(X_test)\n",
    "\n",
    "# Evaluate\n",
    "from sklearn.metrics import mean_squared_error\n",
    "print(\"NN MSE:\", mean_squared_error(y_test, nn_preds))\n",
    "print(\"XGB MSE:\", mean_squared_error(y_test, xgb_preds))"
   ]
  },
  {
   "cell_type": "code",
   "execution_count": 6,
   "id": "83b133c4-72d0-462e-86d6-a7cd79052cb5",
   "metadata": {
    "tags": []
   },
   "outputs": [
    {
     "name": "stdout",
     "output_type": "stream",
     "text": [
      "Hybrid MSE (Avg): 0.020774027082493565\n",
      "Hybrid MSE (Weighted 0.4/0.6): 0.01944710955241221\n"
     ]
    }
   ],
   "source": [
    "# --------------------------------------------\n",
    "# Hybrid Model: Averaging NN and XGB predictions\n",
    "# --------------------------------------------\n",
    "\n",
    "# Simple average (equal weighting)\n",
    "hybrid_preds = (nn_preds + xgb_preds) / 2\n",
    "\n",
    "# Evaluate Hybrid\n",
    "hybrid_mse = mean_squared_error(y_test, hybrid_preds)\n",
    "print(\"Hybrid MSE (Avg):\", hybrid_mse)\n",
    "\n",
    "# Optional: Weighted average (you can tune weights based on performance)\n",
    "weight_nn = 0.4\n",
    "weight_xgb = 0.6\n",
    "hybrid_weighted_preds = (weight_nn * nn_preds) + (weight_xgb * xgb_preds)\n",
    "weighted_hybrid_mse = mean_squared_error(y_test, hybrid_weighted_preds)\n",
    "print(f\"Hybrid MSE (Weighted {weight_nn}/{weight_xgb}):\", weighted_hybrid_mse)"
   ]
  },
  {
   "cell_type": "code",
   "execution_count": 7,
   "id": "ce6c0c3f-6e07-4b23-b1d8-9f6c7c1f6b1c",
   "metadata": {
    "tags": []
   },
   "outputs": [
    {
     "name": "stderr",
     "output_type": "stream",
     "text": [
      "[I 2025-04-28 08:04:15,822] A new study created in memory with name: no-name-86c8d112-c213-4ede-becc-ac8fe761b0e0\n"
     ]
    },
    {
     "name": "stdout",
     "output_type": "stream",
     "text": [
      "1/1 [==============================] - 0s 25ms/step\n"
     ]
    },
    {
     "name": "stderr",
     "output_type": "stream",
     "text": [
      "[I 2025-04-28 08:04:16,604] Trial 0 finished with value: 0.09181110155132678 and parameters: {'n_layers': 3, 'units_0': 17, 'units_1': 23, 'units_2': 108, 'learning_rate': 3.574059050560082e-05}. Best is trial 0 with value: 0.09181110155132678.\n"
     ]
    },
    {
     "name": "stdout",
     "output_type": "stream",
     "text": [
      "1/1 [==============================] - 0s 19ms/step\n"
     ]
    },
    {
     "name": "stderr",
     "output_type": "stream",
     "text": [
      "[I 2025-04-28 08:04:17,336] Trial 1 finished with value: 1.3240455374172941 and parameters: {'n_layers': 1, 'units_0': 27, 'learning_rate': 2.0077352271857634e-05}. Best is trial 0 with value: 0.09181110155132678.\n"
     ]
    },
    {
     "name": "stdout",
     "output_type": "stream",
     "text": [
      "1/1 [==============================] - 0s 19ms/step\n"
     ]
    },
    {
     "name": "stderr",
     "output_type": "stream",
     "text": [
      "[I 2025-04-28 08:04:18,133] Trial 2 finished with value: 0.040658399108532896 and parameters: {'n_layers': 1, 'units_0': 30, 'learning_rate': 0.0005236688526269491}. Best is trial 2 with value: 0.040658399108532896.\n"
     ]
    },
    {
     "name": "stdout",
     "output_type": "stream",
     "text": [
      "WARNING:tensorflow:5 out of the last 5 calls to <function Model.make_predict_function.<locals>.predict_function at 0x308e0dd00> triggered tf.function retracing. Tracing is expensive and the excessive number of tracings could be due to (1) creating @tf.function repeatedly in a loop, (2) passing tensors with different shapes, (3) passing Python objects instead of tensors. For (1), please define your @tf.function outside of the loop. For (2), @tf.function has reduce_retracing=True option that can avoid unnecessary retracing. For (3), please refer to https://www.tensorflow.org/guide/function#controlling_retracing and https://www.tensorflow.org/api_docs/python/tf/function for  more details.\n",
      "1/1 [==============================] - 0s 24ms/step\n"
     ]
    },
    {
     "name": "stderr",
     "output_type": "stream",
     "text": [
      "[I 2025-04-28 08:04:18,915] Trial 3 finished with value: 0.03574244730451277 and parameters: {'n_layers': 3, 'units_0': 121, 'units_1': 63, 'units_2': 125, 'learning_rate': 7.23283840230316e-05}. Best is trial 3 with value: 0.03574244730451277.\n"
     ]
    },
    {
     "name": "stdout",
     "output_type": "stream",
     "text": [
      "WARNING:tensorflow:6 out of the last 6 calls to <function Model.make_predict_function.<locals>.predict_function at 0x17d8c7240> triggered tf.function retracing. Tracing is expensive and the excessive number of tracings could be due to (1) creating @tf.function repeatedly in a loop, (2) passing tensors with different shapes, (3) passing Python objects instead of tensors. For (1), please define your @tf.function outside of the loop. For (2), @tf.function has reduce_retracing=True option that can avoid unnecessary retracing. For (3), please refer to https://www.tensorflow.org/guide/function#controlling_retracing and https://www.tensorflow.org/api_docs/python/tf/function for  more details.\n",
      "1/1 [==============================] - 0s 21ms/step\n"
     ]
    },
    {
     "name": "stderr",
     "output_type": "stream",
     "text": [
      "[I 2025-04-28 08:04:19,656] Trial 4 finished with value: 0.022154180822924835 and parameters: {'n_layers': 2, 'units_0': 36, 'units_1': 32, 'learning_rate': 0.0013442480154228996}. Best is trial 4 with value: 0.022154180822924835.\n"
     ]
    },
    {
     "name": "stdout",
     "output_type": "stream",
     "text": [
      "1/1 [==============================] - 0s 25ms/step\n"
     ]
    },
    {
     "name": "stderr",
     "output_type": "stream",
     "text": [
      "[I 2025-04-28 08:04:20,439] Trial 5 finished with value: 0.019281511549010026 and parameters: {'n_layers': 3, 'units_0': 103, 'units_1': 24, 'units_2': 114, 'learning_rate': 0.002063815995053213}. Best is trial 5 with value: 0.019281511549010026.\n"
     ]
    },
    {
     "name": "stdout",
     "output_type": "stream",
     "text": [
      "1/1 [==============================] - 0s 22ms/step\n"
     ]
    },
    {
     "name": "stderr",
     "output_type": "stream",
     "text": [
      "[I 2025-04-28 08:04:21,209] Trial 6 finished with value: 0.01867864173177107 and parameters: {'n_layers': 2, 'units_0': 22, 'units_1': 55, 'learning_rate': 0.00681810828094312}. Best is trial 6 with value: 0.01867864173177107.\n"
     ]
    },
    {
     "name": "stdout",
     "output_type": "stream",
     "text": [
      "1/1 [==============================] - 0s 22ms/step\n"
     ]
    },
    {
     "name": "stderr",
     "output_type": "stream",
     "text": [
      "[I 2025-04-28 08:04:21,977] Trial 7 finished with value: 0.022139161689497693 and parameters: {'n_layers': 2, 'units_0': 89, 'units_1': 65, 'learning_rate': 0.0011059462510737887}. Best is trial 6 with value: 0.01867864173177107.\n"
     ]
    },
    {
     "name": "stdout",
     "output_type": "stream",
     "text": [
      "1/1 [==============================] - 0s 21ms/step\n"
     ]
    },
    {
     "name": "stderr",
     "output_type": "stream",
     "text": [
      "[I 2025-04-28 08:04:22,757] Trial 8 finished with value: 0.01997954104338136 and parameters: {'n_layers': 2, 'units_0': 54, 'units_1': 85, 'learning_rate': 0.0018475468364436574}. Best is trial 6 with value: 0.01867864173177107.\n"
     ]
    },
    {
     "name": "stdout",
     "output_type": "stream",
     "text": [
      "1/1 [==============================] - 0s 23ms/step\n"
     ]
    },
    {
     "name": "stderr",
     "output_type": "stream",
     "text": [
      "[I 2025-04-28 08:04:23,528] Trial 9 finished with value: 0.1382420760539352 and parameters: {'n_layers': 2, 'units_0': 28, 'units_1': 20, 'learning_rate': 2.1537602316926722e-05}. Best is trial 6 with value: 0.01867864173177107.\n"
     ]
    },
    {
     "name": "stdout",
     "output_type": "stream",
     "text": [
      "Best Hyperparameters: {'n_layers': 2, 'units_0': 22, 'units_1': 55, 'learning_rate': 0.00681810828094312}\n",
      "Best MSE: 0.01867864173177107\n"
     ]
    }
   ],
   "source": [
    "import optuna\n",
    "\n",
    "def objective(trial):\n",
    "    # Define hyperparameter search space\n",
    "    n_layers = trial.suggest_int(\"n_layers\", 1, 4)\n",
    "    units = [trial.suggest_int(f\"units_{i}\", 16, 128) for i in range(n_layers)]\n",
    "    learning_rate = trial.suggest_float(\"learning_rate\", 1e-5, 1e-2, log=True)\n",
    "\n",
    "    # Build model\n",
    "    model = keras.Sequential()\n",
    "    for i in range(n_layers):\n",
    "        model.add(layers.Dense(units[i], activation=\"relu\"))\n",
    "    model.add(layers.Dense(1))\n",
    "\n",
    "    # Compile model\n",
    "    model.compile(optimizer=keras.optimizers.legacy.Adam(learning_rate=learning_rate), loss=\"mse\")\n",
    "\n",
    "    # Train model\n",
    "    model.fit(X_train, y_train, epochs=50, batch_size=32, validation_data=(X_test, y_test), verbose=0)\n",
    "\n",
    "    # Evaluate\n",
    "    preds = model.predict(X_test).flatten()\n",
    "    mse = mean_squared_error(y_test, preds)\n",
    "    return mse\n",
    "\n",
    "# Run Optuna optimization\n",
    "study = optuna.create_study(direction=\"minimize\")\n",
    "study.optimize(objective, n_trials=10)\n",
    "\n",
    "# Best hyperparameters\n",
    "print(\"Best Hyperparameters:\", study.best_params)\n",
    "print(\"Best MSE:\", study.best_value)"
   ]
  },
  {
   "cell_type": "code",
   "execution_count": 8,
   "id": "828390bf-bc09-4a7a-ac37-cbf08b8c347d",
   "metadata": {
    "tags": []
   },
   "outputs": [
    {
     "data": {
      "image/png": "[encoded data removed]",
      "text/plain": [
       "<Figure size 1000x600 with 1 Axes>"
      ]
     },
     "metadata": {},
     "output_type": "display_data"
    }
   ],
   "source": [
    "import matplotlib.pyplot as plt\n",
    "\n",
    "# Assuming mse values are stored\n",
    "mse_values = {\n",
    "    \"Neural Network\": mean_squared_error(y_test, nn_preds),\n",
    "    \"XGBoost\": mean_squared_error(y_test, xgb_preds),\n",
    "    \"Hybrid (Avg)\": hybrid_mse,\n",
    "    \"Hybrid (Weighted)\": weighted_hybrid_mse\n",
    "}\n",
    "\n",
    "# Plotting\n",
    "plt.figure(figsize=(10, 6))\n",
    "plt.bar(mse_values.keys(), mse_values.values(), color=[\"blue\", \"green\", \"orange\", \"red\"])\n",
    "plt.xlabel(\"Model\")\n",
    "plt.ylabel(\"Mean Squared Error\")\n",
    "plt.title(\"Model Performance Comparison\")\n",
    "plt.xticks(rotation=45)\n",
    "plt.tight_layout()\n",
    "\n",
    "# Save the plot\n",
    "plt.savefig(\"model_performance_comparison.png\")"
   ]
  }
 ],
 "metadata": {
  "kernelspec": {
   "display_name": "testenv",
   "language": "python",
   "name": "testenv"
  },
  "language_info": {
   "codemirror_mode": {
    "name": "ipython",
    "version": 3
   },
   "file_extension": ".py",
   "mimetype": "text/x-python",
   "name": "python",
   "nbconvert_exporter": "python",
   "pygments_lexer": "ipython3",
   "version": "3.11.6"
  }
 },
 "nbformat": 4,
 "nbformat_minor": 5
}
